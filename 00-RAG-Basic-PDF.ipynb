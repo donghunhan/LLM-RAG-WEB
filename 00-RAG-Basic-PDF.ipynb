{
 "cells": [
  {
   "cell_type": "markdown",
   "id": "01c423a8",
   "metadata": {},
   "source": [
    "## 환경설정\n"
   ]
  },
  {
   "cell_type": "markdown",
   "id": "a224fd32",
   "metadata": {},
   "source": [
    "API KEY 를 설정합니다.\n"
   ]
  },
  {
   "cell_type": "code",
   "execution_count": 1,
   "id": "418ab505",
   "metadata": {},
   "outputs": [
    {
     "data": {
      "text/plain": [
       "True"
      ]
     },
     "execution_count": 1,
     "metadata": {},
     "output_type": "execute_result"
    }
   ],
   "source": [
    "# API 키를 환경변수로 관리하기 위한 설정 파일\n",
    "from dotenv import load_dotenv\n",
    "\n",
    "# API 키 정보 로드\n",
    "load_dotenv()"
   ]
  },
  {
   "cell_type": "code",
   "execution_count": 2,
   "id": "f3d1b0fc",
   "metadata": {},
   "outputs": [],
   "source": [
    "from langchain_text_splitters import RecursiveCharacterTextSplitter\n",
    "from langchain_community.document_loaders import PyMuPDFLoader\n",
    "from langchain_community.vectorstores import FAISS\n",
    "from langchain_core.output_parsers import StrOutputParser\n",
    "from langchain_core.runnables import RunnablePassthrough\n",
    "from langchain_core.prompts import PromptTemplate\n",
    "from langchain_openai import ChatOpenAI, OpenAIEmbeddings"
   ]
  },
  {
   "cell_type": "markdown",
   "id": "48e783c4",
   "metadata": {},
   "source": [
    "아래는 기본적인 RAG 구조 이해를 위한 뼈대코드(skeleton code) 입니다.\n",
    "\n",
    "각 단계별 모듈의 내용을 앞으로 상황에 맞게 변경하면서 문서에 적합한 구조를 찾아갈 수 있습니다.\n",
    "\n",
    "(각 단계별로 다양한 옵션을 설정하거나 새로운 기법을 적용할 수 있습니다.)"
   ]
  },
  {
   "cell_type": "code",
   "execution_count": 4,
   "id": "377894c9",
   "metadata": {},
   "outputs": [
    {
     "name": "stdout",
     "output_type": "stream",
     "text": [
      "문서의 페이지수: 12\n"
     ]
    }
   ],
   "source": [
    "# 단계 1: 문서 로드(Load Documents)\n",
    "loader = PyMuPDFLoader(\"토양수분, 칼슘부족 및 주야간 습도에 따른 고랭지배추 딥번 발생.pdf\")\n",
    "docs = loader.load()\n",
    "print(f\"문서의 페이지수: {len(docs)}\")"
   ]
  },
  {
   "cell_type": "markdown",
   "id": "3b34f4fe",
   "metadata": {},
   "source": [
    "페이지의 내용을 출력합니다."
   ]
  },
  {
   "cell_type": "code",
   "execution_count": 5,
   "id": "ddf0d7c7",
   "metadata": {},
   "outputs": [
    {
     "name": "stdout",
     "output_type": "stream",
     "text": [
      "Horticultural Science and Technology\n",
      "739\n",
      "토양수분, 칼슘부족 및 주야간 습도에 따른 고랭지배추 팁번 발생\n",
      "치명적인 영향을 미친다. 특히 고랭지배추는 결구된 형태로 수확되어 유통되기 때문에 포기 속에 발생한 팁번(tipburn)은 절개\n",
      "하지 않으면 알 수 없어서 구입 후 식가공 과정에서 발견될 경우 고랭지배추에 대한 좋지 않은 이미지를 줄 수도 있다. 최근 한여\n",
      "름에 재배되는 고랭지배추에 발생되고 있는 팁번은 배추의 품질 저하는 물론 수량 감소로 이어지고 있다. 특히 여름철 고온건\n",
      "조기에 발생이 잘되는 팁번은 그 후 고온 다습을 맞아 2차적으로 무름 증상이 발생하면 일명 ‘꿀통 배추’가 되어 전혀 수확할 \n",
      "수 없게 된다. 팁번은 해에 따라 간헐적으로 나타나기 때문에 고랭지배추 재배자들은 아직 완전한 극복 방법을 찾지 못하고 있\n",
      "다. 팁번은 칼슘 부족에 의한 생리 장해로 100여 년 전에 밝혀졌으나 여러 가지 원인이 복합적으로 작용하여 아직도 완벽하게 \n",
      "해결하지 못하고 있다(Saure, 1998). 팁번은 세포 내에 칼슘이 부족한 조건에서 polygalacturonase의 작용으로 pectic \n",
      "polysaccharide가 붕괴되고 세포벽이 와해되어 세포의 괴사가 일어나는 생리 장해(Selling et al., 2000)로, 토양이나 식물체의 \n",
      "절대적인 칼슘 부족에 의한 경우보다는 과습, 건조(Balvoll, 1995), 고온 등 여러 가지 복잡한 환경조건의 변화에 의한 칼슘의 \n",
      "흡수 장해 또는 부위 간 이동 분배의 불균형과 이를 더 부채질하는 생장 속도(Saure, 1998)도 관여하는 것으로 알려져 있다.\n",
      "한편 칼슘의 흡수는 증산류를 따라 수동적으로 흡수·이동되므로(Clarkson, 1984) 주로 증발산이 많은 부위로 이동하게 되\n",
      "어 칼슘을 많이 필요로 하는 신초 부위로 이동이 적다(Cho et al., 1994). 그러나 증산류에만 의존하는 것은 아니고 근압에 의해\n",
      "서도 좌우되므로(Engels, 1999) 근권부 환경도 영향을 미친다. 세포 내로 이동된 칼슘은 세포 내에 잉여될 경우에는 액포에 저\n",
      "장되지만 이것이 질소 등 다른 영양 원소와 같이 잘 이동되지는 않는다(Hirschi, 1999). 이런 특성 때문에 칼슘 흡수량 부족을 \n",
      "보완하기 위해 칼슘 용액의 엽면살포도 실시되고 있다(Lee et al., 1996). 증산과 밀접한 관계가 있는 습도는 칼슘의 잎으로의 \n",
      "이동성에 영향을 미친다(Chung, 1999). 공중 습도에 의해 포차가 낮으면 증산이 일어나기 어려우며, 포차가 너무 높으면 과도\n",
      "한 증산이 일어나(Nam et al., 2014), 수분 손실이 크게 되면 기공이 닫혀서 식물체에 수분공급이 제한되므로(Singh and \n",
      "Singh, 2003) 이로 인해 생리적 장해가 발생하기도 한다(Monclus et al., 2006). 칼슘 결핍증은 다양한 재배 환경 요인과 관계\n",
      "가 있어서 실제로 배추재배지에서 나타나는 팁번 발생 양상은 어느 하나가 원인이라고 단정하기 힘들다. 이에 본 연구에서는 \n",
      "팁번 발생에 미치는 몇가지 기상 요인에 대한 반응을 검토하고 아울러 재배 현장에서의 관리 실태를 분석하여 고랭지배추의 칼\n",
      "슘결핍증을 경감할 수 있는 방법을 모색하기 위해 수행되었다. \n",
      "재료 및 방법\n",
      "배추의 생장에 따른 경시적 칼슘 흡수량 변화\n",
      "배추의 생장에 따른 경시적인 칼슘 흡수량 변화를 알아보기 위하여 배추(‘CR대장부’, KS종묘)를 엽채류전용 원예원표준액\n",
      "(N-P-K-Ca-Mg = 15-3-6-8-4me·L-1)이 담긴 약 4L 들이 폿트에 정식하였다. 정식 후 결구기인 20일이 경과한 때부터 2－3일 \n",
      "간격으로 식물체중, 양액 흡수량을 조사하였으며, 칼슘 흡수량은 양액을 채취하여 흡수된 양액량과 칼슘 함량으로부터 산출하\n",
      "였다. 칼슘 분석은 ICP-OES(Optima 2100 DV, Perkin Elmer, USA)로 하였다.\n",
      "배추의 칼슘 결제처리 및 칼슘액 엽면살포에 따른 tipburn 발생 \n",
      "엽채류전용 원예원표준액(N-P-K-Ca-Mg = 15-3-6-8-4me·L-1)에서 결구 초기(정식 후 20일)까지 4L 용기에서 배추(‘수\n",
      "호’, 농우바이오)를 재배하다가 칼슘결제처리일 오전 10시에 뿌리를 세척하고 칼슘을 제거한 양액에서 2, 4, 8, 16, 24 및 48시\n",
      "간 동안 결제처리하였다. 이 후 표준 양액에서 40일간 더 재배한 후 팁번 발생을 조사하였다(Table 1). 칼슘결제 시 양액 조제는 \n",
      "양이온교환수지로 칼슘을 제거시킨 물을 사용하였다. 재배 종료 후 결제처리기간 이외의 재배기간 중 1주일 간격으로 양액을 \n",
      "갱신하였다. 또한 0.3%의 염화 칼슘 용액을 결구기에 5일 간격으로 3회 살포하였다. 팁번이 발생한 잎과 발생하지 않은 잎의 \n",
      "잎 중앙 부위와 끝부분, 그리고 포기 내외부 잎의 칼슘 함량은 전자현미경 장착 EDS system(FE-SEM+EDS, Thermo fisher\n"
     ]
    }
   ],
   "source": [
    "print(docs[1].page_content)"
   ]
  },
  {
   "cell_type": "markdown",
   "id": "a7e2963b",
   "metadata": {},
   "source": [
    "`metadata` 를 확인합니다."
   ]
  },
  {
   "cell_type": "code",
   "execution_count": 12,
   "id": "6d6b05fd",
   "metadata": {},
   "outputs": [
    {
     "data": {
      "text/plain": [
       "{'id': None,\n",
       " 'metadata': {'producer': 'Acrobat Distiller 9.0.0 (Windows)',\n",
       "  'creator': 'PScript5.dll Version 5.2.2',\n",
       "  'creationdate': '2021-12-08T17:28:25+09:00',\n",
       "  'source': 'data/토양수분, 칼슘부족 및 주야간 습도에 따른 고랭지배추 딥번 발생.pdf',\n",
       "  'file_path': 'data/토양수분, 칼슘부족 및 주야간 습도에 따른 고랭지배추 딥번 발생.pdf',\n",
       "  'total_pages': 12,\n",
       "  'format': 'PDF 1.4',\n",
       "  'title': '',\n",
       "  'author': '',\n",
       "  'subject': '',\n",
       "  'keywords': '',\n",
       "  'moddate': '2021-12-08T17:40:08+09:00',\n",
       "  'trapped': '',\n",
       "  'modDate': \"D:20211208174008+09'00'\",\n",
       "  'creationDate': \"D:20211208172825+09'00'\",\n",
       "  'page': 2},\n",
       " 'page_content': \"740\\nHorticultural Science and Technology\\n토양수분, 칼슘부족 및 주야간 습도에 따른 고랭지배추 팁번 발생\\nScientific, USA)으로 분석하였다.\\n \\n주야간 습도 조절에 따른 배추 내외부 온습도 및 포차의 변화 특성\\n배추 포기 내부의 온습도의 변화를 알아보기 위해 배추묘(‘수호’, 농우바이오)를 직경 36cm의 폿트에 정식하여 생육 상자\\n(W × D × H, 1 × 1 × 1m)에서 재배하면서 제습기(DHJ-067BNB, Winix)와 가습기(SGM-L124, Geek)를 활용하여 주간제습\\n/야간제습 및 주간제습/야간가습 처리하고 배추 포기 내외의 온습도 및 포차를 조사하였다. 배추 포기 내외부의 온습도는 온도\\n센서(Almemo Thermo Za 9020-Fs, Arborn, Germany)와 습도센서(Almemo FH A646-E1, Arborn, Germany)로 측정하\\n였다.\\n주야간 습도 조건에 따른 배추 칼슘 결핍증 발생\\n배추(‘수호’, 농우바이오)을 직경 36cm 폿트에 정식하여 1개월간 온실에서 재배한 식물체를 생육 상자(W × D × H, 1 × 1 \\n× 1m)에 두고 제습기(DHJ-067BNB, Winix)와 가습기(SGM-L124, Geek)를 이용하여 습도를 조절하면서 재배하였다. 습도\\n를 조절한 각각의 생육 상자 내의 상대 습도의 변화는 Fig. 1과 같다. 처리 전 배추는 70－100%의 습도조건에서 재배하였다. \\n습도를 처리한 지 1주 및 2주 후에 팁번 등 생리 장리 발생을 확인하였다. 또한 발생한 팁번의 엽서 위치를 파악하기 위하여 습\\n도 조절 처리 3주 후에는 배추를 수확하여 잎 발생 순서에 따라 팁번 발생 엽서 및 발생 엽수를 조사하였다. 습도는 소형 데이터\\n로거(Watchdog model450, Spectrum Technologies, USA)로 측정하였다. \\n토양 수분 조건 및 야간 습도 조절에 따른 팁번 발생\\n배추(‘수호’, 농우바이오)를 바로커 상토(원예전용, 서울바이오)로 채운 직경 36cm의 화분에 심어 생장상(D × W × H, 1 × \\n1 × 1m)에서 재배하면서 토양수분조건을 달리하였으며 및 야간 동안에는 습도를 조절하였다. 토양 수분 조건은 생육 단계를 \\n생육 초기(정식－20일), 생육 중기(21－42일) 및 생육 후기(42－63일) 등 3 단계로 나누어 생육 단계에 따라 －10kPa 이상으\\n로 과습한 조건, －20 ~－50kPa의 적습한 조건 및 －50kPa 이하의 건조한 조건 등 3처리를 두었다. 야간 동안의 공중 습도는 \\n가습기(SGM-L124, Geek)와 제습기(DHJ-067BNB, Winix)로 100% 및 약 60%로 유지되게 조절하였다. \\n고랭지배추 주산단지의 토양 수분과 습도의 일변화 등 칼슘 결핍증 발생 요인 분석\\n고랭지배추 주산지인 태백 매봉산(N37°22', E128°96')과 강릉 안반데기(N37°61', E128° 74')에 위치한 농가의 고랭지배추 \\n재배지에서 재배기간 중 토양의 수분포텐셜과 공중 습도의 변화를 조사하였다. 습도와 토양 수분포텐셜은 소형 데이터로거\\n(Watchdog model450, Spectrum Technologies, USA)와 gypsum block 센서(Watermark, Irrometer Inc. USA)로 측정하였다. \\n아울러 토양의 칼슘 부족, 칼슘 흡수 장해 요소, 칼슘 이동· 분배, 작물의 성장속도 등 칼슘 결핍증에 관련된 요소에 대한 재배 \\n현장에서 행해지고 있는 상황을 분석하였다. \\n통계분석\\n자료는 SAS 프로그램(Statistical analysis system ver.9.4, USA)을 이용하였으며 처리 평균 간 유의성은 Duncan의 다중검\\n정법으로 분석하였다.\",\n",
       " 'type': 'Document'}"
      ]
     },
     "execution_count": 12,
     "metadata": {},
     "output_type": "execute_result"
    }
   ],
   "source": [
    "docs[2].__dict__"
   ]
  },
  {
   "cell_type": "code",
   "execution_count": 8,
   "id": "1b52f26a",
   "metadata": {},
   "outputs": [
    {
     "name": "stdout",
     "output_type": "stream",
     "text": [
      "분할된 청크의수: 46\n"
     ]
    }
   ],
   "source": [
    "# 단계 2: 문서 분할(Split Documents)\n",
    "text_splitter = RecursiveCharacterTextSplitter(chunk_size=700, chunk_overlap=50)\n",
    "split_documents = text_splitter.split_documents(docs)\n",
    "print(f\"분할된 청크의수: {len(split_documents)}\")"
   ]
  },
  {
   "cell_type": "code",
   "execution_count": 9,
   "id": "ffd535a3",
   "metadata": {},
   "outputs": [
    {
     "name": "stdout",
     "output_type": "stream",
     "text": [
      "https://doi.org/10.7235/HORT.20210065\n",
      "토양수분, 칼슘부족 및 주야간 습도에 따른 고랭지배추 \n",
      "팁번 발생\n",
      "김기덕*\n",
      " · 서종택 · 김창석 · 지삼녀\n",
      "국립식량과학원 고령지농업연구소\n",
      "Tipburn Occurrence According to Soil Moisture, \n",
      "Calcium Deficiency, and Day/Night Relative \n",
      "Humidity Regime in Highland Kimchi Cabbage\n",
      "Ki-Deog Kim*\n",
      ", Jong-Taek Suh, Chang-Seok Kim, and Sam-Nyu Jee\n",
      "Highland Agriculture Research Institute, National Institute of Crop Science, RDA, Pyeongchang 25342, \n",
      "Korea\n",
      "*Corresponding author: kkd1414@korea.kr\n",
      "Abstract\n",
      "Tipburn occurs occasionally in Kimchi cabbage, and lowers quality and yield. This study was \n",
      "carried out to understand the causes and reduce the occurrence of tipburn. Daily calcium uptake\n"
     ]
    }
   ],
   "source": [
    "print(split_documents[1].page_content)"
   ]
  },
  {
   "cell_type": "code",
   "execution_count": 11,
   "id": "b8d8b25c",
   "metadata": {},
   "outputs": [
    {
     "name": "stdout",
     "output_type": "stream",
     "text": [
      "문서의 페이지 수: 12\n",
      "분할된 청크 수: 46\n",
      "예상 총 토큰 개수: 12072\n",
      "예상 비용: $0.006036\n"
     ]
    }
   ],
   "source": [
    "import tiktoken\n",
    "from langchain.document_loaders import PyMuPDFLoader\n",
    "from langchain.text_splitter import RecursiveCharacterTextSplitter\n",
    "\n",
    "# 단계 1: PDF 문서 로드\n",
    "loader = PyMuPDFLoader(\"토양수분, 칼슘부족 및 주야간 습도에 따른 고랭지배추 딥번 발생.pdf\")\n",
    "docs = loader.load()\n",
    "print(f\"문서의 페이지 수: {len(docs)}\")\n",
    "\n",
    "# 단계 2: 문서 분할\n",
    "text_splitter = RecursiveCharacterTextSplitter(chunk_size=700, chunk_overlap=50)\n",
    "split_documents = text_splitter.split_documents(docs)\n",
    "print(f\"분할된 청크 수: {len(split_documents)}\")\n",
    "\n",
    "# 단계 3: 토큰 수 및 예상 비용 계산\n",
    "def estimate_gpt4o_mini_cost(texts, model=\"gpt-4o-mini\"):\n",
    "    \"\"\"GPT-4o-mini 모델을 사용할 때 예상 토큰 수 및 비용 계산\"\"\"\n",
    "    encoding = tiktoken.encoding_for_model(model)\n",
    "    total_tokens = sum(len(encoding.encode(text.page_content)) for text in texts)\n",
    "\n",
    "    # GPT-4o-mini 비용 (예상 값, OpenAI 공식 문서에서 최신 정보 확인 필요)\n",
    "    cost_per_1k_input = 0.0005  # 입력 토큰당 $0.0005 (예제 값)\n",
    "\n",
    "    estimated_cost = (total_tokens / 1000) * cost_per_1k_input\n",
    "    return total_tokens, estimated_cost\n",
    "\n",
    "tokens, cost = estimate_gpt4o_mini_cost(split_documents)\n",
    "\n",
    "print(f\"예상 총 토큰 개수: {tokens}\")\n",
    "print(f\"예상 비용: ${cost:.6f}\")  # 소수점 6자리까지 출력\n"
   ]
  },
  {
   "cell_type": "code",
   "execution_count": 2,
   "id": "795cfec7",
   "metadata": {},
   "outputs": [
    {
     "ename": "NameError",
     "evalue": "name 'OpenAIEmbeddings' is not defined",
     "output_type": "error",
     "traceback": [
      "\u001b[31m---------------------------------------------------------------------------\u001b[39m",
      "\u001b[31mNameError\u001b[39m                                 Traceback (most recent call last)",
      "\u001b[36mCell\u001b[39m\u001b[36m \u001b[39m\u001b[32mIn[2]\u001b[39m\u001b[32m, line 2\u001b[39m\n\u001b[32m      1\u001b[39m \u001b[38;5;66;03m# 단계 3: 임베딩(Embedding) 생성\u001b[39;00m\n\u001b[32m----> \u001b[39m\u001b[32m2\u001b[39m embeddings = \u001b[43mOpenAIEmbeddings\u001b[49m() \u001b[38;5;66;03m#돈듭니다.\u001b[39;00m\n\u001b[32m      3\u001b[39m embeddings\n",
      "\u001b[31mNameError\u001b[39m: name 'OpenAIEmbeddings' is not defined"
     ]
    }
   ],
   "source": [
    "# 단계 3: 임베딩(Embedding) 생성\n",
    "embeddings = OpenAIEmbeddings() #돈듭니다.\n",
    "embeddings"
   ]
  },
  {
   "cell_type": "code",
   "execution_count": 7,
   "id": "82f47754",
   "metadata": {},
   "outputs": [
    {
     "ename": "NameError",
     "evalue": "name 'split_documents' is not defined",
     "output_type": "error",
     "traceback": [
      "\u001b[31m---------------------------------------------------------------------------\u001b[39m",
      "\u001b[31mNameError\u001b[39m                                 Traceback (most recent call last)",
      "\u001b[36mCell\u001b[39m\u001b[36m \u001b[39m\u001b[32mIn[7]\u001b[39m\u001b[32m, line 3\u001b[39m\n\u001b[32m      1\u001b[39m \u001b[38;5;66;03m# 단계 4: DB 생성(Create DB) 및 저장\u001b[39;00m\n\u001b[32m      2\u001b[39m \u001b[38;5;66;03m# 벡터스토어를 생성합니다.\u001b[39;00m\n\u001b[32m----> \u001b[39m\u001b[32m3\u001b[39m vectorstore = FAISS.from_documents(documents=\u001b[43msplit_documents\u001b[49m, embedding=embeddings) \u001b[38;5;66;03m#FAISS 는 DB\u001b[39;00m\n",
      "\u001b[31mNameError\u001b[39m: name 'split_documents' is not defined"
     ]
    }
   ],
   "source": [
    "# 단계 4: DB 생성(Create DB) 및 저장\n",
    "# 벡터스토어를 생성합니다.\n",
    "vectorstore = FAISS.from_documents(documents=split_documents, embedding=embeddings) #FAISS 는 DB"
   ]
  },
  {
   "cell_type": "code",
   "execution_count": 27,
   "id": "222b7ad4",
   "metadata": {},
   "outputs": [],
   "source": [
    "# 1. FAISS 벡터 DB 저장 코드\n",
    "vectorstore.save_local(\"faiss_index\") #"
   ]
  },
  {
   "cell_type": "code",
   "execution_count": 19,
   "id": "548f35f9",
   "metadata": {},
   "outputs": [
    {
     "name": "stdout",
     "output_type": "stream",
     "text": [
      "FAISS 벡터 차원 수: 1536\n"
     ]
    }
   ],
   "source": [
    "import faiss\n",
    "\n",
    "index = faiss.read_index(\"faiss_index/index.faiss\")  \n",
    "print(\"FAISS 벡터 차원 수:\", index.d)"
   ]
  },
  {
   "cell_type": "code",
   "execution_count": 29,
   "id": "ed143bc0",
   "metadata": {},
   "outputs": [
    {
     "name": "stdout",
     "output_type": "stream",
     "text": [
      "Fertilizer based on soil testing\n",
      "Lack of calcium \n",
      "content in soil\n",
      "Fertilization\n",
      "Natural supply\n",
      "+++\n",
      "－\n",
      "+++\n",
      "－\n",
      "Control of fertilizer\n",
      "-\n",
      "z+++ Enough, ++ Well, + Good, －Not good or insufficient.\n",
      "호’, 농우바이오)를 재배하다가 칼슘결제처리일 오전 10시에 뿌리를 세척하고 칼슘을 제거한 양액에서 2, 4, 8, 16, 24 및 48시\n",
      "간 동안 결제처리하였다. 이 후 표준 양액에서 40일간 더 재배한 후 팁번 발생을 조사하였다(Table 1). 칼슘결제 시 양액 조제는 \n",
      "양이온교환수지로 칼슘을 제거시킨 물을 사용하였다. 재배 종료 후 결제처리기간 이외의 재배기간 중 1주일 간격으로 양액을 \n",
      "갱신하였다. 또한 0.3%의 염화 칼슘 용액을 결구기에 5일 간격으로 3회 살포하였다. 팁번이 발생한 잎과 발생하지 않은 잎의 \n",
      "잎 중앙 부위와 끝부분, 그리고 포기 내외부 잎의 칼슘 함량은 전자현미경 장착 EDS system(FE-SEM+EDS, Thermo fisher\n",
      "Horticultural Science and Technology\n",
      "741\n",
      "토양수분, 칼슘부족 및 주야간 습도에 따른 고랭지배추 팁번 발생\n",
      "결과 및 고찰\n",
      "배추의 칼슘 결제처리 및 칼슘액 엽면살포에 따른 팁번 발생 \n",
      "칼슘 결제에 따른 배추의 칼슘 결핍 발생 양상을 알아보기 위하여 칼슘을 제거한 양액에서 일정기간 처리한 후 배추의 팁번 \n",
      "발생을 조사하였다(Table 1). 팁번은 24시간, 48시간 칼슘 결제처리한 구에서 모두 나타났다. 칼슘 엽면 살포는 칼슘 결핍증 발\n",
      "생을 줄이는 효과는 보이지 않았으나 결핍 정도는 다소 낮추는 효과는 있었다. 결구 시작기의 칼슘 결제처리 시 팁번 나타내는 \n",
      "A\n",
      "B\n",
      "C\n",
      "D\n",
      "Fig. 1. Daily changes of relative humidity by treatment in a pilot-scale greenhouse controlled by drying machine and \n",
      "humidifier. Relative humidity conditions were: RH-1 (A) 70 to 100%, RH-2 (B) 50 to 100%, RH-3 (C) 40 to 80%, and \n",
      "RH-4 (C) 20 to 40%.\n",
      "생을 줄이기 위해서는 기본적으로 적절한 토양수분의 관리와 아울러 야간 습도를 높이기 위한 fogging은 배추의 칼슘 결핍증\n",
      "을 줄이는데 획기적인 수단이 될 수 있을 것으로 판단된다. \n",
      "초 록\n",
      "빈번히 발생하는 칼슘 부족에 따른 생리 장해의 발생은 품질과 수량을 현저히 떨어 뜨린다. 본 연구는 팁번 발생을 경감시키\n",
      "기 위한 기초 자료를 얻기 위하여 수행되었다. 배추의 일중 칼슘 흡수량은 배추의 생체량이 급격하게 증가하는 결구 초기에 증\n",
      "가하는 경향을 보였다. 24시간 이상의 양액 내 칼슘을 결제처리할 할 경우, 대부분 팁번이 발생하였으며, 나타나는 부위는 외엽\n",
      "Table 4. Diagnosis of current situation and solutions for reducing calcium deficiency in the highland Kimchi cabbage \n",
      "cultivation area\n",
      "Items related to \n",
      "calcium deficiency\n",
      "Related factors to calcium deficiency\n",
      "Current \n",
      "situation\n",
      "Manage-ability \n",
      "to related \n",
      "factors\n",
      "How to manage\n",
      "Fast crop growth\n",
      "Photosynthesis\n",
      "Best supply of nitrogen or other nutrients\n",
      "Water\n",
      "++z\n",
      "+\n",
      "－\n",
      "－\n",
      "+\n",
      "－\n"
     ]
    }
   ],
   "source": [
    "from langchain.vectorstores import FAISS\n",
    "from langchain.embeddings import FakeEmbeddings\n",
    "\n",
    "# FakeEmbeddings로 임베딩 함수 제공 (차원 수에 맞게 설정)\n",
    "fake_embeddings = FakeEmbeddings(size=1536)\n",
    "\n",
    "# FAISS 로드\n",
    "vectorstore = FAISS.load_local(\"faiss_index\", embeddings=fake_embeddings, allow_dangerous_deserialization=True)\n",
    "\n",
    "# 검색 테스트\n",
    "for doc in vectorstore.similarity_search(\"gd\"):\n",
    "    print(doc.page_content)\n"
   ]
  },
  {
   "cell_type": "code",
   "execution_count": 30,
   "id": "b75a6120",
   "metadata": {},
   "outputs": [],
   "source": [
    "\n",
    "# FAISS 벡터 DB 불러오기 코드\n",
    "from langchain.vectorstores import FAISS\n",
    "from langchain.embeddings import FakeEmbeddings\n",
    "\n",
    "# FAISS 저장할 때 사용한 벡터 차원 수와 동일하게 설정 (예: 1536)\n",
    "fake_embeddings = FakeEmbeddings(size=1536)\n",
    "vectorstore = FAISS.load_local(\"faiss_index\", embeddings=fake_embeddings, allow_dangerous_deserialization=True)\n",
    "\n",
    "# 올바른 로드 방법: FakeEmbeddings 인스턴스를 넘겨야 함\n",
    "#vectorstore = FAISS.load_local(\"faiss_index\", fake_embeddings)"
   ]
  },
  {
   "cell_type": "code",
   "execution_count": null,
   "id": "34dd3019",
   "metadata": {},
   "outputs": [],
   "source": [
    "for doc in vectorstore.similarity_search(\"구글\"):\n",
    "    print(doc.page_content)"
   ]
  },
  {
   "cell_type": "code",
   "execution_count": 31,
   "id": "838f7729",
   "metadata": {},
   "outputs": [
    {
     "data": {
      "text/plain": [
       "VectorStoreRetriever(tags=['FAISS', 'FakeEmbeddings'], vectorstore=<langchain_community.vectorstores.faiss.FAISS object at 0x000001C773A40510>, search_kwargs={})"
      ]
     },
     "execution_count": 31,
     "metadata": {},
     "output_type": "execute_result"
    }
   ],
   "source": [
    "# 단계 5: 검색기(Retriever) 생성\n",
    "# 문서에 포함되어 있는 정보를 검색하고 생성합니다.\n",
    "retriever = vectorstore.as_retriever()\n",
    "retriever"
   ]
  },
  {
   "cell_type": "code",
   "execution_count": 32,
   "id": "cf459048",
   "metadata": {},
   "outputs": [
    {
     "data": {
      "text/plain": [
       "[Document(id='070024cc-4280-49ab-87fd-b87af416eb7d', metadata={'producer': 'Acrobat Distiller 9.0.0 (Windows)', 'creator': 'PScript5.dll Version 5.2.2', 'creationdate': '2021-12-08T17:28:25+09:00', 'source': 'data/토양수분, 칼슘부족 및 주야간 습도에 따른 고랭지배추 딥번 발생.pdf', 'file_path': 'data/토양수분, 칼슘부족 및 주야간 습도에 따른 고랭지배추 딥번 발생.pdf', 'total_pages': 12, 'format': 'PDF 1.4', 'title': '', 'author': '', 'subject': '', 'keywords': '', 'moddate': '2021-12-08T17:40:08+09:00', 'trapped': '', 'modDate': \"D:20211208174008+09'00'\", 'creationDate': \"D:20211208172825+09'00'\", 'page': 7}, page_content='인 8월 30일경에 야간 동안의 습도가 낮고 토양 수분포텐셜이 낮은 조건은 구 내부 신초엽에 팁번이 발생할 수 있는 필요조건을 \\nTable 3. Tipburn occurrence by leaf order according to soil moisture conditions by growth stage and air humidity control at \\nnight\\nSoil water conditionz\\nAir humidity control \\nDays after planting\\nControl\\nHumidified \\nDehumidified\\nEarly \\n(1－20)\\nMiddle\\n(21－42)\\nLate\\n(43－63)\\nLeaf order (Outer 1↔ Inner 70)\\n◯\\n◯\\n◯\\nNOy\\nNO\\nNO\\n+\\n◯\\n◯\\nNO\\nNO\\nNO\\n◯\\n+\\n◯\\nNO\\nNO\\nNO\\n◯\\n◯\\n+\\nNO\\nNO\\n11－25\\n－\\n◯\\n◯\\n 7－14x\\n11－18\\n13－35\\n◯\\n－\\n◯\\n7－13\\n9－20\\n13－35\\n◯\\n◯\\n－\\n14－17\\n13－18\\n9－20\\nzSoil water condition; ◯: Well watered (－20 ~－50kPa), +: Wet (about －10 kPa), －: Less moisture (below －50kPa). \\nyOccurrence of tipburn.\\nxTipburn occurrence by leaf order from the outer leaf.'),\n",
       " Document(id='4beb04d6-4842-4503-9558-7582ba78cdae', metadata={'producer': 'Acrobat Distiller 9.0.0 (Windows)', 'creator': 'PScript5.dll Version 5.2.2', 'creationdate': '2021-12-08T17:28:25+09:00', 'source': 'data/토양수분, 칼슘부족 및 주야간 습도에 따른 고랭지배추 딥번 발생.pdf', 'file_path': 'data/토양수분, 칼슘부족 및 주야간 습도에 따른 고랭지배추 딥번 발생.pdf', 'total_pages': 12, 'format': 'PDF 1.4', 'title': '', 'author': '', 'subject': '', 'keywords': '', 'moddate': '2021-12-08T17:40:08+09:00', 'trapped': '', 'modDate': \"D:20211208174008+09'00'\", 'creationDate': \"D:20211208172825+09'00'\", 'page': 8}, page_content='을 살펴보았다(Table 4). \\n종합적으로 살펴보면, 칼슘결핍증의 발생을 4가지 항목으로 나눌 때, 첫째 토양 중 칼슘 함량의 부족(Saure, 1998), 둘째 고\\n온, 토양 건조, 과습, 염류 집적에 의한 흡수 장해(Park et al., 1984), 셋째 증산에 영향을 미치는 고온, 저습, 풍속에 의한 주야간 \\n포차로 인해 야기되는 이동·분배의 불균형(Cho et al., 1994). 넷째 칼슘요구량에 대한 공급 속도에 비해 빠른 생장 속도이다\\n(Tibbitts and Rao, 1968; Hartz et al., 2007). 재배 현장에서는 이와 같은 4가지 항목의 변화에 의한 누적 효과의 결과로 잎 끝\\n에 칼슘이 부족해지면 나타나기 때문에 칼슘 결핍증 발생의 제어가 쉽지 않은 것 같다. \\n실제로 재배현장에서는 충분한 시비를 하기 때문에 토양 중 칼슘 절대량의 부족의 문제는 발생하지 않는다. Hartz et \\nal.(2007)의 연구 결과에 의하면 결구상추재배에서 칼슘 용액의 관비 또는 토양의 칼슘함량과는 무관하였고, 오히려 수확기 2\\n주전의 안개에 의해 증산이 낮았던 곳에서 팁번이 심하게 발생하였다고 보고하였는데, 재배지에 안개로 인해 포차가 낮을 경\\n우 증산이 활발하지 못해 상대적으로 칼슘이 구 내부잎으로의 이동이 증가했을 것으로 짐작된다. 하지만 이 때 일사량이 낮고'),\n",
       " Document(id='f921b5fb-5b2d-49eb-9cc3-369025eb783d', metadata={'producer': 'Acrobat Distiller 9.0.0 (Windows)', 'creator': 'PScript5.dll Version 5.2.2', 'creationdate': '2021-12-08T17:28:25+09:00', 'source': 'data/토양수분, 칼슘부족 및 주야간 습도에 따른 고랭지배추 딥번 발생.pdf', 'file_path': 'data/토양수분, 칼슘부족 및 주야간 습도에 따른 고랭지배추 딥번 발생.pdf', 'total_pages': 12, 'format': 'PDF 1.4', 'title': '', 'author': '', 'subject': '', 'keywords': '', 'moddate': '2021-12-08T17:40:08+09:00', 'trapped': '', 'modDate': \"D:20211208174008+09'00'\", 'creationDate': \"D:20211208172825+09'00'\", 'page': 8}, page_content=\"자외선량도 적으며, 세포의 수분포텐셜이 높게 되면 식물체가 연하고 빠르게 커서 칼슘결핍증이 나타날 가능성이 커질 수 있\\n었을 것으로 추측된다. 마찬가지로 질소의 과잉 공급 또한 배추의 생장을 촉진하여 팁번의 발생을 증가시킬 수 있다(Brumm \\nand Schenk, 1993). 따라서 주야간 습도 조건을 달리한 연구결과로부터 낮 동안의 상대 습도 증가에 의한 증산의 제어는 광합\\n성에도 악영향을 미칠 뿐 아니라 실제적으로 인위적인 조절의 한계가 있으므로 야간 동안의 습도의 조절이나 생장억제제의 적\\n절한 사용(Pressman and Aviram, 1986; Yong et al., 2003)은 생장 속도와 증산을 제어하여 칼슘 결핍증을 줄일 수 있을 것으\\nA\\nB\\nC\\nD\\nFig. 6. Daily changes of relative humidity and soil water potential in Taebaek Maebongsan (37°22'N, 128°96'E) and \\nGangneung Anbandegi (37°61'N, 128°74'E), the main producing areas of highland Kimchi cabbage. A, C: Relative\"),\n",
       " Document(id='f477899f-2cd9-4849-ac34-05e35854668c', metadata={'producer': 'Acrobat Distiller 9.0.0 (Windows)', 'creator': 'PScript5.dll Version 5.2.2', 'creationdate': '2021-12-08T17:28:25+09:00', 'source': 'data/토양수분, 칼슘부족 및 주야간 습도에 따른 고랭지배추 딥번 발생.pdf', 'file_path': 'data/토양수분, 칼슘부족 및 주야간 습도에 따른 고랭지배추 딥번 발생.pdf', 'total_pages': 12, 'format': 'PDF 1.4', 'title': '', 'author': '', 'subject': '', 'keywords': '', 'moddate': '2021-12-08T17:40:08+09:00', 'trapped': '', 'modDate': \"D:20211208174008+09'00'\", 'creationDate': \"D:20211208172825+09'00'\", 'page': 5}, page_content='산이 활발한 광엽으로의 이동이 많고, 한참 생장하고 있어 칼슘을 필요로 하지만 구내의 신엽으로의 이동이 적어 칼슘 결핍이 \\n나타나는 것이 아닌가 생각된다. \\n주야간 습도 조건에 따른 배추 칼슘 결핍증 발생\\nTable 2 및 Fig. 5는 배추 재배 시 공중 습도를 조절했을 때 칼슘 결핍증 발생 조사결과이다. 24시간 가습하여 낮에는 70%, \\n밤에는 100%로 유지되었던 RH-1처리에서는 팁번은 발생되지 않았다. RH-1처리의 결과와는 달리 낮에 50%, 밤에는 100%\\n로 낮에만 습도를 낮게한 RH-2처리에서는 초기에 팁번이 초기에 가볍게 나타났으나 이후에는 다시 회복되었다. 즉 처음에 낮\\n과 밤의 습도가 70－100%의 습도 상태에서 낮과 밤의 습도가 50－100% 환경 조건으로 최저 습도가 20%정도 더 낮아진 경우\\n에도 팁번이 거의 나타나지 않고 회복되는 것으로 보아 습도가 밤에만 높으면 낮 동안의 습도 조건은 어느 정도까지는 팁번에 \\n그다지 영향을 미치지 못하는 것으로 이해된다. 그런데 낮과 밤의 습도 범위가 40－80%로 조절되었던 RH-3처리에서 팁번이 \\n가장 많이 발생하였다. 이는 공중 습도가 밤에는 높고 낮에는 낮았던 RH-2처리의 결과와 비교해 볼 때, 낮의 습도가 낮은 것보')]"
      ]
     },
     "execution_count": 32,
     "metadata": {},
     "output_type": "execute_result"
    }
   ],
   "source": [
    "retriever.invoke(\"ㅁㄴㅇㄻㄴㅇㄹㄷㅈㄱㅈ\")"
   ]
  },
  {
   "cell_type": "markdown",
   "id": "f29da7b4",
   "metadata": {},
   "source": [
    "검색기에 쿼리를 날려 검색된 chunk 결과를 확인합니다."
   ]
  },
  {
   "cell_type": "code",
   "execution_count": 33,
   "id": "3bb3e26f",
   "metadata": {},
   "outputs": [],
   "source": [
    "# 단계 6: 프롬프트 생성(Create Prompt)\n",
    "# 프롬프트를 생성합니다.\n",
    "prompt = PromptTemplate.from_template(\n",
    "    \"\"\"당신은 질문에 답하는 업무를 수행하는 도우미입니다.\n",
    "다음에 제공된 문맥을 사용하여 질문에 답하세요.\n",
    "만약 답을 모른다면, 모른다고 솔직하게 말하세요.\n",
    "답변은 한글로 작성하세요.\n",
    "\n",
    "#Context: \n",
    "{context}\n",
    "\n",
    "#Question:\n",
    "{question}\n",
    "\n",
    "#Answer:\"\"\"\n",
    ")"
   ]
  },
  {
   "cell_type": "code",
   "execution_count": 34,
   "id": "669ed5b7",
   "metadata": {},
   "outputs": [],
   "source": [
    "# 단계 7: 언어모델(LLM) 생성\n",
    "# 모델(LLM) 을 생성합니다.\n",
    "llm = ChatOpenAI(model_name=\"gpt-4o\", temperature=0)"
   ]
  },
  {
   "cell_type": "code",
   "execution_count": 35,
   "id": "3113bc05",
   "metadata": {},
   "outputs": [],
   "source": [
    "# 단계 8: 체인(Chain) 생성\n",
    "chain = (\n",
    "    {\"context\": retriever, \"question\": RunnablePassthrough()}\n",
    "    | prompt\n",
    "    | llm\n",
    "    | StrOutputParser()\n",
    ")"
   ]
  },
  {
   "cell_type": "markdown",
   "id": "e79f4aeb",
   "metadata": {},
   "source": [
    "생성된 체인에 쿼리(질문)을 입력하고 실행합니다."
   ]
  },
  {
   "cell_type": "code",
   "execution_count": 37,
   "id": "50d6b7f0",
   "metadata": {},
   "outputs": [
    {
     "name": "stdout",
     "output_type": "stream",
     "text": [
      "문맥에서 수경재배에 대한 정보는 제공되지 않았습니다. 따라서 수경재배에 대해 답변할 수 없습니다.\n"
     ]
    }
   ],
   "source": [
    "# 체인 실행(Run Chain)\n",
    "# 문서에 대한 질의를 입력하고, 답변을 출력합니다.\n",
    "question = \"수경재배에대해\"\n",
    "response = chain.invoke(question)\n",
    "print(response)"
   ]
  },
  {
   "cell_type": "markdown",
   "id": "f8444e43",
   "metadata": {},
   "source": [
    "## 전체 코드"
   ]
  },
  {
   "cell_type": "code",
   "execution_count": null,
   "id": "adc45dbf",
   "metadata": {},
   "outputs": [],
   "source": [
    "from langchain_text_splitters import RecursiveCharacterTextSplitter\n",
    "from langchain_community.document_loaders import PyMuPDFLoader\n",
    "from langchain_community.vectorstores import FAISS\n",
    "from langchain_core.output_parsers import StrOutputParser\n",
    "from langchain_core.runnables import RunnablePassthrough\n",
    "from langchain_core.prompts import PromptTemplate\n",
    "from langchain_openai import ChatOpenAI, OpenAIEmbeddings\n",
    "\n",
    "# 단계 1: 문서 로드(Load Documents)\n",
    "loader = PyMuPDFLoader(\"data/SPRI_AI_Brief_2023년12월호_F.pdf\")\n",
    "docs = loader.load()\n",
    "\n",
    "# 단계 2: 문서 분할(Split Documents)\n",
    "text_splitter = RecursiveCharacterTextSplitter(chunk_size=1000, chunk_overlap=50)\n",
    "split_documents = text_splitter.split_documents(docs)\n",
    "\n",
    "# 단계 3: 임베딩(Embedding) 생성\n",
    "embeddings = OpenAIEmbeddings()\n",
    "\n",
    "# 단계 4: DB 생성(Create DB) 및 저장\n",
    "# 벡터스토어를 생성합니다.\n",
    "vectorstore = FAISS.from_documents(documents=split_documents, embedding=embeddings)\n",
    "\n",
    "# 단계 5: 검색기(Retriever) 생성\n",
    "# 문서에 포함되어 있는 정보를 검색하고 생성합니다.\n",
    "retriever = vectorstore.as_retriever()\n",
    "\n",
    "# 단계 6: 프롬프트 생성(Create Prompt)\n",
    "# 프롬프트를 생성합니다.\n",
    "prompt = PromptTemplate.from_template(\n",
    "    \"\"\"You are an assistant for question-answering tasks. \n",
    "Use the following pieces of retrieved context to answer the question. \n",
    "If you don't know the answer, just say that you don't know. \n",
    "Answer in Korean.\n",
    "\n",
    "#Context: \n",
    "{context}\n",
    "\n",
    "#Question:\n",
    "{question}\n",
    "\n",
    "#Answer:\"\"\"\n",
    ")\n",
    "\n",
    "# 단계 7: 언어모델(LLM) 생성\n",
    "# 모델(LLM) 을 생성합니다.\n",
    "llm = ChatOpenAI(model_name=\"gpt-4o\", temperature=0)\n",
    "\n",
    "# 단계 8: 체인(Chain) 생성\n",
    "chain = (\n",
    "    {\"context\": retriever, \"question\": RunnablePassthrough()}\n",
    "    | prompt\n",
    "    | llm\n",
    "    | StrOutputParser()\n",
    ")"
   ]
  },
  {
   "cell_type": "code",
   "execution_count": null,
   "id": "c5986cab",
   "metadata": {},
   "outputs": [],
   "source": [
    "# 체인 실행(Run Chain)\n",
    "# 문서에 대한 질의를 입력하고, 답변을 출력합니다.\n",
    "question = \"삼성전자가 자체 개발한 AI 의 이름은?\"\n",
    "response = chain.invoke(question)\n",
    "print(response)"
   ]
  }
 ],
 "metadata": {
  "kernelspec": {
   "display_name": "langchain",
   "language": "python",
   "name": "python3"
  },
  "language_info": {
   "codemirror_mode": {
    "name": "ipython",
    "version": 3
   },
   "file_extension": ".py",
   "mimetype": "text/x-python",
   "name": "python",
   "nbconvert_exporter": "python",
   "pygments_lexer": "ipython3",
   "version": "3.11.11"
  }
 },
 "nbformat": 4,
 "nbformat_minor": 5
}
